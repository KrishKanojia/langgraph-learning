{
 "cells": [
  {
   "cell_type": "code",
   "execution_count": 18,
   "id": "9e202670",
   "metadata": {},
   "outputs": [
    {
     "data": {
      "text/plain": [
       "True"
      ]
     },
     "execution_count": 18,
     "metadata": {},
     "output_type": "execute_result"
    }
   ],
   "source": [
    "from dotenv import load_dotenv\n",
    "from langchain_openai import ChatOpenAI\n",
    "from langgraph.graph import StateGraph, START, END\n",
    "from typing import TypedDict, Annotated\n",
    "from pydantic import BaseModel, Field\n",
    "import operator\n",
    "load_dotenv()"
   ]
  },
  {
   "cell_type": "code",
   "execution_count": 3,
   "id": "0426a586",
   "metadata": {},
   "outputs": [],
   "source": [
    "model = ChatOpenAI(model=\"gpt-4o-mini\")"
   ]
  },
  {
   "cell_type": "code",
   "execution_count": 10,
   "id": "8c5ea892",
   "metadata": {},
   "outputs": [],
   "source": [
    "class EvaluationSchema(BaseModel):\n",
    "    feedback: str = Field(description=\"Detail feedback for the essay\")\n",
    "    score: int = Field(description=\"Score out of 10\", ge=0, le=10)"
   ]
  },
  {
   "cell_type": "code",
   "execution_count": 11,
   "id": "7f560831",
   "metadata": {},
   "outputs": [],
   "source": [
    "structured_model = model.with_structured_output(EvaluationSchema)"
   ]
  },
  {
   "cell_type": "code",
   "execution_count": 12,
   "id": "20d8252d",
   "metadata": {},
   "outputs": [],
   "source": [
    "essay = \"\"\"India in the Age of AI\n",
    "As the world enters a transformative era defined by artificial intelligence (AI), India stands at a critical juncture — one where it can either emerge as a global leader in AI innovation or risk falling behind in the technology race. The age of AI brings with it immense promise as well as unprecedented challenges, and how India navigates this landscape will shape its socio-economic and geopolitical future.\n",
    "\n",
    "India's strengths in the AI domain are rooted in its vast pool of skilled engineers, a thriving IT industry, and a growing startup ecosystem. With over 5 million STEM graduates annually and a burgeoning base of AI researchers, India possesses the intellectual capital required to build cutting-edge AI systems. Institutions like IITs, IIITs, and IISc have begun fostering AI research, while private players such as TCS, Infosys, and Wipro are integrating AI into their global services. In 2020, the government launched the National AI Strategy (AI for All) with a focus on inclusive growth, aiming to leverage AI in healthcare, agriculture, education, and smart mobility.\n",
    "\n",
    "One of the most promising applications of AI in India lies in agriculture, where predictive analytics can guide farmers on optimal sowing times, weather forecasts, and pest control. In healthcare, AI-powered diagnostics can help address India’s doctor-patient ratio crisis, particularly in rural areas. Educational platforms are increasingly using AI to personalize learning paths, while smart governance tools are helping improve public service delivery and fraud detection.\n",
    "\n",
    "However, the path to AI-led growth is riddled with challenges. Chief among them is the digital divide. While metropolitan cities may embrace AI-driven solutions, rural India continues to struggle with basic internet access and digital literacy. The risk of job displacement due to automation also looms large, especially for low-skilled workers. Without effective skilling and re-skilling programs, AI could exacerbate existing socio-economic inequalities.\n",
    "\n",
    "Another pressing concern is data privacy and ethics. As AI systems rely heavily on vast datasets, ensuring that personal data is used transparently and responsibly becomes vital. India is still shaping its data protection laws, and in the absence of a strong regulatory framework, AI systems may risk misuse or bias.\n",
    "\n",
    "To harness AI responsibly, India must adopt a multi-stakeholder approach involving the government, academia, industry, and civil society. Policies should promote open datasets, encourage responsible innovation, and ensure ethical AI practices. There is also a need for international collaboration, particularly with countries leading in AI research, to gain strategic advantage and ensure interoperability in global systems.\n",
    "\n",
    "India’s demographic dividend, when paired with responsible AI adoption, can unlock massive economic growth, improve governance, and uplift marginalized communities. But this vision will only materialize if AI is seen not merely as a tool for automation, but as an enabler of human-centered development.\n",
    "\n",
    "In conclusion, India in the age of AI is a story in the making — one of opportunity, responsibility, and transformation. The decisions we make today will not just determine India’s AI trajectory, but also its future as an inclusive, equitable, and innovation-driven society.\"\"\""
   ]
  },
  {
   "cell_type": "code",
   "execution_count": 13,
   "id": "35356212",
   "metadata": {},
   "outputs": [],
   "source": [
    "prompt = f'Evaluate the language quality of the following essay and provide a feedback and assign a score out of 10 \\n {essay}'\n",
    "\n",
    "result = structured_model.invoke(prompt)"
   ]
  },
  {
   "cell_type": "code",
   "execution_count": 16,
   "id": "bfb58874",
   "metadata": {},
   "outputs": [
    {
     "name": "stdout",
     "output_type": "stream",
     "text": [
      "8\n"
     ]
    }
   ],
   "source": [
    "print(result.score)"
   ]
  },
  {
   "cell_type": "code",
   "execution_count": 22,
   "id": "566c239b",
   "metadata": {},
   "outputs": [],
   "source": [
    "class EssayState(TypedDict):\n",
    "    essay_text: str\n",
    "    language_feedback: str\n",
    "    analysis_feedback: str\n",
    "    clarity_feedback: str\n",
    "    final_feedback: str\n",
    "    individual_scores: Annotated[list[int], operator.add]\n",
    "    final_score: int"
   ]
  },
  {
   "cell_type": "code",
   "execution_count": 23,
   "id": "76345b5f",
   "metadata": {},
   "outputs": [],
   "source": [
    "def evaluate_language(state: EssayState):\n",
    "    prompt = f'Evaluate the language quality of the following essay and provide a feedback and assign a score out of 10 \\n {state['essay_text']}'\n",
    "    output = structured_model.invoke(prompt)\n",
    "    return {\"language_feedback\" : output.feedback, \"individual_scores\": [output.score]}\n",
    "\n",
    "def evaluate_analysis(state: EssayState):\n",
    "    prompt = f'Evaluate the depth of analysis of the following essay and provide a feedback and assign a score out of 10 \\n {state['essay_text']}'\n",
    "    output = structured_model.invoke(prompt)\n",
    "    return {\"analysis_feedback\" : output.feedback, \"individual_scores\": [output.score]}\n",
    "\n",
    "def evaluate_thought(state: EssayState):\n",
    "    prompt = f'Evaluate the clarity of thought of the following essay and provide a feedback and assign a score out of 10 \\n {state['essay_text']}'\n",
    "    output = structured_model.invoke(prompt)\n",
    "    return {\"clarity_feedback\" : output.feedback, \"individual_scores\": [output.score]}\n",
    "\n",
    "def evaluate_final(state: EssayState):\n",
    "    prompt = f'Based on the following feedbacks create a summerized feedback \\n langauge feedback - {state['language_feedback']} \\n depth of analysis feedback - {state['analysis_feedback']} \\n clarity of thought feedback - {state['clarity_feedback']}'\n",
    "    result  = model.invoke(prompt).content\n",
    "    final_avg_score = sum(state['individual_scores']) / len(state['individual_scores'])\n",
    "    \n",
    "    return {\"final_feedback\" : result, \"final_score\": final_avg_score}"
   ]
  },
  {
   "cell_type": "code",
   "execution_count": 24,
   "id": "fe63ae34",
   "metadata": {},
   "outputs": [],
   "source": [
    "graph = StateGraph(EssayState)\n",
    "\n",
    "graph.add_node(\"evaluate_language\", evaluate_language)\n",
    "graph.add_node(\"evaluate_analysis\", evaluate_analysis)\n",
    "graph.add_node(\"evaluate_thought\", evaluate_thought)\n",
    "graph.add_node(\"evaluate_final\", evaluate_final)\n",
    "\n",
    "\n",
    "graph.add_edge(START, \"evaluate_language\")\n",
    "graph.add_edge(START, \"evaluate_analysis\")\n",
    "graph.add_edge(START, \"evaluate_thought\")\n",
    "\n",
    "graph.add_edge(\"evaluate_language\", \"evaluate_final\")\n",
    "graph.add_edge(\"evaluate_analysis\", \"evaluate_final\")\n",
    "graph.add_edge(\"evaluate_thought\", \"evaluate_final\")\n",
    "\n",
    "graph.add_edge(\"evaluate_final\", END)\n",
    "\n",
    "workflow = graph.compile()"
   ]
  },
  {
   "cell_type": "code",
   "execution_count": 25,
   "id": "f53d5658",
   "metadata": {},
   "outputs": [
    {
     "data": {
      "image/png": "[encoded data removed]",
      "text/plain": [
       "<langgraph.graph.state.CompiledStateGraph object at 0x00000201860F9CA0>"
      ]
     },
     "execution_count": 25,
     "metadata": {},
     "output_type": "execute_result"
    }
   ],
   "source": [
    "workflow"
   ]
  },
  {
   "cell_type": "code",
   "execution_count": 27,
   "id": "dac09515",
   "metadata": {},
   "outputs": [],
   "source": [
    "initial_state = {\n",
    "    \"essay_text\": essay\n",
    "}\n",
    "\n",
    "result = workflow.invoke(initial_state)\n"
   ]
  },
  {
   "cell_type": "code",
   "execution_count": 29,
   "id": "3a58233a",
   "metadata": {},
   "outputs": [
    {
     "data": {
      "text/plain": [
       "{'essay_text': \"India in the Age of AI\\nAs the world enters a transformative era defined by artificial intelligence (AI), India stands at a critical juncture — one where it can either emerge as a global leader in AI innovation or risk falling behind in the technology race. The age of AI brings with it immense promise as well as unprecedented challenges, and how India navigates this landscape will shape its socio-economic and geopolitical future.\\n\\nIndia's strengths in the AI domain are rooted in its vast pool of skilled engineers, a thriving IT industry, and a growing startup ecosystem. With over 5 million STEM graduates annually and a burgeoning base of AI researchers, India possesses the intellectual capital required to build cutting-edge AI systems. Institutions like IITs, IIITs, and IISc have begun fostering AI research, while private players such as TCS, Infosys, and Wipro are integrating AI into their global services. In 2020, the government launched the National AI Strategy (AI for All) with a focus on inclusive growth, aiming to leverage AI in healthcare, agriculture, education, and smart mobility.\\n\\nOne of the most promising applications of AI in India lies in agriculture, where predictive analytics can guide farmers on optimal sowing times, weather forecasts, and pest control. In healthcare, AI-powered diagnostics can help address India’s doctor-patient ratio crisis, particularly in rural areas. Educational platforms are increasingly using AI to personalize learning paths, while smart governance tools are helping improve public service delivery and fraud detection.\\n\\nHowever, the path to AI-led growth is riddled with challenges. Chief among them is the digital divide. While metropolitan cities may embrace AI-driven solutions, rural India continues to struggle with basic internet access and digital literacy. The risk of job displacement due to automation also looms large, especially for low-skilled workers. Without effective skilling and re-skilling programs, AI could exacerbate existing socio-economic inequalities.\\n\\nAnother pressing concern is data privacy and ethics. As AI systems rely heavily on vast datasets, ensuring that personal data is used transparently and responsibly becomes vital. India is still shaping its data protection laws, and in the absence of a strong regulatory framework, AI systems may risk misuse or bias.\\n\\nTo harness AI responsibly, India must adopt a multi-stakeholder approach involving the government, academia, industry, and civil society. Policies should promote open datasets, encourage responsible innovation, and ensure ethical AI practices. There is also a need for international collaboration, particularly with countries leading in AI research, to gain strategic advantage and ensure interoperability in global systems.\\n\\nIndia’s demographic dividend, when paired with responsible AI adoption, can unlock massive economic growth, improve governance, and uplift marginalized communities. But this vision will only materialize if AI is seen not merely as a tool for automation, but as an enabler of human-centered development.\\n\\nIn conclusion, India in the age of AI is a story in the making — one of opportunity, responsibility, and transformation. The decisions we make today will not just determine India’s AI trajectory, but also its future as an inclusive, equitable, and innovation-driven society.\",\n",
       " 'language_feedback': \"The essay presents a well-structured analysis of India's potential in the field of AI, effectively arguing both the opportunities and challenges faced. The language used is formal and appropriate for the subject matter, with a coherent progression of ideas. The writer employs a variety of sentence structures and appropriate vocabulary, which enhances readability. However, while the content is rich, it could benefit from more specific examples or statistics to strengthen the arguments, especially when discussing challenges like the digital divide and job displacement. Additionally, some areas could be clarified for greater impact, such as detailing how specific policies could be structured. Overall, the essay effectively addresses the topic but leaves some areas open for further exploration.\",\n",
       " 'analysis_feedback': \"The essay provides a thoughtful overview of India's potential and challenges in the realm of artificial intelligence. It effectively highlights India's strengths, such as its talent pool and government initiatives, while also addressing critical challenges like the digital divide and ethical concerns surrounding AI. The arguments are generally well-structured and supported by relevant examples, demonstrating a comprehensive understanding of the subject. However, the analysis could benefit from deeper exploration into specific case studies or statistics to substantiate claims about AI's impact or to illustrate the challenges more vividly. Additionally, the essay could explore potential solutions in greater detail, rather than merely stating the challenges. Overall, the depth of analysis is solid but could be enhanced with more specific evidence and examples.\",\n",
       " 'clarity_feedback': \"The essay presents a clear and well-structured exploration of India's position in the age of AI. It effectively outlines both strengths and challenges, providing a balanced view of the implications of AI in various sectors. However, some sections could delve deeper into specific examples or statistics to enhance clarity and engagement. The transitions between different ideas are mostly smooth, but there are moments where the connectivity could be improved for better flow. Overall, the essay demonstrates a strong understanding of the topic but could benefit from more specific arguments or data to bolster its claims.\",\n",
       " 'final_feedback': \"**Summarized Feedback:**\\n\\nThe essay offers a structured and thoughtful analysis of India's potential in artificial intelligence, effectively discussing both opportunities and challenges. The language is formal and suitable for the topic, with a coherent progression of ideas and varied sentence structures that enhance readability. However, to strengthen arguments, it could benefit from incorporating more specific examples or statistics, particularly regarding the digital divide and job displacement. While the essay highlights India's strengths, such as its talent pool and government initiatives, there remains a need for deeper exploration into specific case studies and potential solutions to the identified challenges. Transitions between ideas are mostly smooth, but improvements in connectivity would enhance the overall flow. In summary, the essay effectively addresses the topic but leaves room for deeper analysis and more concrete evidence to bolster its claims.\",\n",
       " 'individual_scores': [7, 8, 8],\n",
       " 'final_score': 7.666666666666667}"
      ]
     },
     "execution_count": 29,
     "metadata": {},
     "output_type": "execute_result"
    }
   ],
   "source": [
    "result"
   ]
  },
  {
   "cell_type": "code",
   "execution_count": 30,
   "id": "da05c551",
   "metadata": {},
   "outputs": [],
   "source": [
    "essay2 = \"\"\"India and AI Time\n",
    "\n",
    "Now world change very fast because new tech call Artificial Intel… something (AI). India also want become big in this AI thing. If work hard, India can go top. But if no careful, India go back.\n",
    "\n",
    "India have many good. We have smart student, many engine-ear, and good IT peoples. Big company like TCS, Infosys, Wipro already use AI. Government also do program “AI for All”. It want AI in farm, doctor place, school and transport.\n",
    "\n",
    "In farm, AI help farmer know when to put seed, when rain come, how stop bug. In health, AI help doctor see sick early. In school, AI help student learn good. Government office use AI to find bad people and work fast.\n",
    "\n",
    "But problem come also. First is many villager no have phone or internet. So AI not help them. Second, many people lose job because AI and machine do work. Poor people get more bad.\n",
    "\n",
    "One more big problem is privacy. AI need big big data. Who take care? India still make data rule. If no strong rule, AI do bad.\n",
    "\n",
    "India must all people together – govern, school, company and normal people. We teach AI and make sure AI not bad. Also talk to other country and learn from them.\n",
    "\n",
    "If India use AI good way, we become strong, help poor and make better life. But if only rich use AI, and poor no get, then big bad thing happen.\n",
    "\n",
    "So, in short, AI time in India have many hope and many danger. We must go right road. AI must help all people, not only some. Then India grow big and world say \"good job India\".\"\"\""
   ]
  },
  {
   "cell_type": "code",
   "execution_count": 32,
   "id": "3b2ba454",
   "metadata": {},
   "outputs": [
    {
     "data": {
      "text/plain": [
       "{'essay_text': 'India and AI Time\\n\\nNow world change very fast because new tech call Artificial Intel… something (AI). India also want become big in this AI thing. If work hard, India can go top. But if no careful, India go back.\\n\\nIndia have many good. We have smart student, many engine-ear, and good IT peoples. Big company like TCS, Infosys, Wipro already use AI. Government also do program “AI for All”. It want AI in farm, doctor place, school and transport.\\n\\nIn farm, AI help farmer know when to put seed, when rain come, how stop bug. In health, AI help doctor see sick early. In school, AI help student learn good. Government office use AI to find bad people and work fast.\\n\\nBut problem come also. First is many villager no have phone or internet. So AI not help them. Second, many people lose job because AI and machine do work. Poor people get more bad.\\n\\nOne more big problem is privacy. AI need big big data. Who take care? India still make data rule. If no strong rule, AI do bad.\\n\\nIndia must all people together – govern, school, company and normal people. We teach AI and make sure AI not bad. Also talk to other country and learn from them.\\n\\nIf India use AI good way, we become strong, help poor and make better life. But if only rich use AI, and poor no get, then big bad thing happen.\\n\\nSo, in short, AI time in India have many hope and many danger. We must go right road. AI must help all people, not only some. Then India grow big and world say \"good job India\".',\n",
       " 'language_feedback': 'The essay presents some interesting ideas regarding India\\'s engagement with AI; however, it suffers from numerous language issues that affect its clarity and coherence. The use of informal language, grammatical errors, and awkward sentence structures significantly weaken the overall quality. For example, phrases like \"new tech call Artificial Intel… something (AI)\" and \"if no careful, India go back,\" lack clarity and proper grammar, which distracts from the central message. Additionally, more complex ideas such as the implications of AI on jobs and privacy are introduced but lacking depth and nuanced discussion. Improvements could include using formal language, correcting grammatical errors, and organizing thoughts more clearly to enhance readability. Overall, the essay shows a good understanding of the topic but could be improved with greater attention to language quality and structure.',\n",
       " 'analysis_feedback': 'The essay provides a basic overview of the potential of Artificial Intelligence (AI) in India, touching on its advantages in agriculture, healthcare, education, and governance. However, the depth of analysis is quite limited due to several factors. Firstly, the language used lacks sophistication and contains numerous grammatical errors, affecting clarity and flow. Additionally, points made are often repetitive and lack detailed explanation or evidence to support claims. The essay does not engage with counterarguments nor explore the implications of AI on employment or privacy in-depth, merely stating the existence of problems without a thorough examination. While the conclusion advocates for equitable AI use, the arguments leading to this conclusion do not persuade or elaborate on how these goals can be achieved. More structure, clarity, and argumentative depth are needed for a higher score.',\n",
       " 'clarity_feedback': 'The essay presents a clear concern regarding the implications of AI for India, highlighting both the opportunities and challenges. However, there are substantial issues with clarity and coherence due to its simplistic language, grammatical errors, and awkward phrasing. Ideas tend to be expressed in a fragmented manner, making it difficult for the reader to grasp complex ideas fully. Additionally, some points could have been elaborated more for better understanding. Improving sentence structure and providing deeper insights would enhance the clarity of thought significantly.',\n",
       " 'final_feedback': \"**Summarized Feedback:**\\n\\nThe essay showcases interesting ideas about India's engagement with Artificial Intelligence (AI), particularly its potential benefits in sectors like agriculture, healthcare, education, and governance. However, it faces significant challenges related to language quality, clarity, and depth of analysis. Numerous grammatical errors, informal language, and awkward phrasing detract from the overall coherence and readability. Additionally, while the essay identifies key concerns, such as the implications of AI on employment and privacy, it lacks nuanced discussion and fails to present counterarguments or detailed evidence to support its claims. The conclusion calls for equitable AI use but does not effectively outline how to achieve this goal. To improve, the essay should focus on enhancing language sophistication, organizing thoughts more clearly, and providing a more in-depth analysis of the points raised.\",\n",
       " 'individual_scores': [4, 4, 4],\n",
       " 'final_score': 4.0}"
      ]
     },
     "execution_count": 32,
     "metadata": {},
     "output_type": "execute_result"
    }
   ],
   "source": [
    "intial_state = {\n",
    "    'essay_text': essay2\n",
    "}\n",
    "\n",
    "workflow.invoke(intial_state)"
   ]
  },
  {
   "cell_type": "code",
   "execution_count": null,
   "id": "a16fe6d4",
   "metadata": {},
   "outputs": [],
   "source": []
  }
 ],
 "metadata": {
  "kernelspec": {
   "display_name": "langgraph_venv",
   "language": "python",
   "name": "python3"
  },
  "language_info": {
   "codemirror_mode": {
    "name": "ipython",
    "version": 3
   },
   "file_extension": ".py",
   "mimetype": "text/x-python",
   "name": "python",
   "nbconvert_exporter": "python",
   "pygments_lexer": "ipython3",
   "version": "3.12.1"
  }
 },
 "nbformat": 4,
 "nbformat_minor": 5
}
