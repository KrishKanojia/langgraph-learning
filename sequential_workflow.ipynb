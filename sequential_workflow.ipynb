{
 "cells": [
  {
   "cell_type": "markdown",
   "id": "627d670a",
   "metadata": {},
   "source": [
    "# BMI Calculator"
   ]
  },
  {
   "cell_type": "code",
   "execution_count": 7,
   "id": "eca9da09",
   "metadata": {},
   "outputs": [],
   "source": [
    "from langgraph.graph import StateGraph, START, END"
   ]
  },
  {
   "cell_type": "code",
   "execution_count": 22,
   "id": "66bee9cd",
   "metadata": {},
   "outputs": [],
   "source": [
    "from typing import TypedDict\n",
    "\n",
    "class BMIState(TypedDict):\n",
    "    weight_kg: float\n",
    "    height_m: float\n",
    "    bmi: float\n",
    "    bmi_label: str"
   ]
  },
  {
   "cell_type": "code",
   "execution_count": 23,
   "id": "95f8adce",
   "metadata": {},
   "outputs": [],
   "source": [
    "def calculate_bmi(state: BMIState) -> BMIState:\n",
    "    weight = state['weight_kg'] \n",
    "    height = state['height_m'] \n",
    "    \n",
    "    bmi = weight / (height**2)\n",
    "\n",
    "    return {\"bmi\": round(bmi, 2)}\n",
    "\n",
    "\n",
    "def label_bmi(state: BMIState) -> BMIState:\n",
    "    if state[\"bmi\"] > 30:\n",
    "        return {\"bmi_label\": \"Obese\"}\n",
    "    \n",
    "    elif state[\"bmi\"] < 30 and state[\"bmi\"] > 25:\n",
    "        return  {\"bmi_label\": \"Normal\"}\n",
    "    else:\n",
    "        return {\"bmi_label\": \"Under Weight\"}"
   ]
  },
  {
   "cell_type": "code",
   "execution_count": 24,
   "id": "0a74a816",
   "metadata": {},
   "outputs": [],
   "source": [
    "graph = StateGraph(BMIState)\n",
    "\n",
    "graph.add_node('calculate_bmi', calculate_bmi)\n",
    "graph.add_node('label_bmi', label_bmi)\n",
    "\n",
    "graph.add_edge(START, 'calculate_bmi')\n",
    "graph.add_edge('calculate_bmi', 'label_bmi')\n",
    "graph.add_edge('label_bmi', END)\n",
    "workflow = graph.compile()"
   ]
  },
  {
   "cell_type": "code",
   "execution_count": 27,
   "id": "1d03c324",
   "metadata": {},
   "outputs": [
    {
     "data": {
      "text/plain": [
       "{'weight_kg': 50, 'height_m': 1.73, 'bmi': 16.71, 'bmi_label': 'Under Weight'}"
      ]
     },
     "execution_count": 27,
     "metadata": {},
     "output_type": "execute_result"
    }
   ],
   "source": [
    "workflow.invoke({\"weight_kg\" : 50, \"height_m\" : 1.73})"
   ]
  },
  {
   "cell_type": "code",
   "execution_count": 17,
   "id": "f5a75b77",
   "metadata": {},
   "outputs": [
    {
     "data": {
      "image/png": "[encoded data removed]",
      "text/plain": [
       "<IPython.core.display.Image object>"
      ]
     },
     "metadata": {},
     "output_type": "display_data"
    }
   ],
   "source": [
    "from IPython.display import Image, display\n",
    "\n",
    "display(\n",
    "    Image(\n",
    "        workflow.get_graph().draw_mermaid_png()\n",
    "    )\n",
    ")"
   ]
  },
  {
   "cell_type": "markdown",
   "id": "c5d606b5",
   "metadata": {},
   "source": [
    "# Prompt Chaining"
   ]
  },
  {
   "cell_type": "code",
   "execution_count": 7,
   "id": "dcc98dd6",
   "metadata": {},
   "outputs": [
    {
     "data": {
      "text/plain": [
       "True"
      ]
     },
     "execution_count": 7,
     "metadata": {},
     "output_type": "execute_result"
    }
   ],
   "source": [
    "from langchain_openai import ChatOpenAI\n",
    "from dotenv import load_dotenv\n",
    "from langchain_core.prompts import ChatPromptTemplate\n",
    "from langgraph.graph import StateGraph, START, END\n",
    "from typing import TypedDict\n",
    "from langchain_core.output_parsers import StrOutputParser\n",
    "\n",
    "load_dotenv()"
   ]
  },
  {
   "cell_type": "code",
   "execution_count": 8,
   "id": "93c6f321",
   "metadata": {},
   "outputs": [],
   "source": [
    "llm = ChatOpenAI()"
   ]
  },
  {
   "cell_type": "code",
   "execution_count": 9,
   "id": "8da53071",
   "metadata": {},
   "outputs": [],
   "source": [
    "class PromptChainState(TypedDict):\n",
    "    topic: str\n",
    "    outline: str\n",
    "    blog: str"
   ]
  },
  {
   "cell_type": "code",
   "execution_count": 17,
   "id": "b8738b50",
   "metadata": {},
   "outputs": [],
   "source": [
    "def gen_outline(state: PromptChainState) -> PromptChainState:\n",
    "    topic = state[\"topic\"]\n",
    "\n",
    "    query = ChatPromptTemplate.from_template(\n",
    "        \"Generate Outline from following topic: {topic}\"\n",
    "    )\n",
    "\n",
    "    outline_chain = query | llm | StrOutputParser()\n",
    "    outline = outline_chain.invoke({\"topic\" : topic})\n",
    "\n",
    "    return {\"outline\" : outline}\n",
    "\n",
    "def gen_blog(state: PromptChainState) -> PromptChainState:\n",
    "    outline = state[\"outline\"]\n",
    "\n",
    "    query = ChatPromptTemplate.from_template(\n",
    "        \"Generate Blog from following outline: {outline}\"\n",
    "    )\n",
    "    blog_chain = query |  llm | StrOutputParser()\n",
    "    blog = blog_chain.invoke({\"outline\" : outline})\n",
    "    return {\"blog\" : blog}"
   ]
  },
  {
   "cell_type": "code",
   "execution_count": 18,
   "id": "bbc7dfe1",
   "metadata": {},
   "outputs": [],
   "source": [
    "graph = StateGraph(PromptChainState)\n",
    "\n",
    "graph.add_node(\"gen_outline\", gen_outline)\n",
    "graph.add_node(\"gen_blog\",  gen_blog)\n",
    "\n",
    "graph.add_edge(START, \"gen_outline\")\n",
    "graph.add_edge(\"gen_outline\", \"gen_blog\")\n",
    "graph.add_edge(\"gen_blog\", END)\n",
    "\n",
    "workflow = graph.compile()"
   ]
  },
  {
   "cell_type": "code",
   "execution_count": 19,
   "id": "48c7a7d4",
   "metadata": {},
   "outputs": [],
   "source": [
    "result =  workflow.invoke({\"topic\": \"How to earn money online?\"})"
   ]
  },
  {
   "cell_type": "code",
   "execution_count": 22,
   "id": "fab28be2",
   "metadata": {},
   "outputs": [
    {
     "name": "stdout",
     "output_type": "stream",
     "text": [
      "Topic:  How to earn money online?\n",
      "Outline:  I. Introduction\n",
      "    A. Brief overview of the topic\n",
      "    B. Importance of earning money online\n",
      "\n",
      "II. Identifying Opportunities\n",
      "    A. Researching different online methods\n",
      "    B. Choosing the right platform or opportunity\n",
      "    C. Assessing personal skills and interests\n",
      "\n",
      "III. Building a Strategy\n",
      "    A. Setting financial goals\n",
      "    B. Creating a timeline for income generation\n",
      "    C. Developing a plan for growth and sustainability\n",
      "\n",
      "IV. Implementing Tools and Techniques\n",
      "    A. Utilizing social media and online marketing\n",
      "    B. Creating a professional online presence\n",
      "    C. Networking with other online entrepreneurs\n",
      "\n",
      "V. Generating Income Streams\n",
      "    A. Freelancing or doing gig work\n",
      "    B. Selling products or services online\n",
      "    C. Investing in online ventures or platforms\n",
      "\n",
      "VI. Managing Finances\n",
      "    A. Tracking income and expenses\n",
      "    B. Setting up payment gateways and accounts\n",
      "    C. Planning for taxes and financial security\n",
      "\n",
      "VII. Overcoming Challenges\n",
      "    A. Dealing with competition and saturation\n",
      "    B. Managing time and staying motivated\n",
      "    C. Seeking help or guidance when needed\n",
      "\n",
      "VIII. Conclusion\n",
      "    A. Summary of key points\n",
      "    B. Encouragement to take action and start earning money online.\n",
      "Blog:  \n",
      "\n",
      "In today's digital age, the opportunity to earn money online has never been more accessible. Whether you are looking to supplement your income, start a side hustle, or even transition to full-time online work, the possibilities are endless. In this blog post, we will guide you through the process of earning money online, from identifying opportunities to managing your finances and overcoming challenges.\n",
      "\n",
      "Identifying Opportunities:\n",
      "\n",
      "The first step in earning money online is to research different methods and opportunities available. From freelancing and gig work to selling products or services online, there are countless ways to generate income on the internet. It is important to choose the right platform or opportunity that aligns with your skills, interests, and financial goals.\n",
      "\n",
      "Building a Strategy:\n",
      "\n",
      "Once you have identified a potential opportunity, it is crucial to build a strategy for success. Set financial goals, create a timeline for income generation, and develop a plan for growth and sustainability. By outlining your objectives and mapping out how you will achieve them, you will be better positioned to succeed in the online marketplace.\n",
      "\n",
      "Implementing Tools and Techniques:\n",
      "\n",
      "To maximize your earning potential online, it is essential to utilize social media and online marketing techniques. Create a professional online presence, network with other online entrepreneurs, and leverage technology to reach a wider audience. By adopting the right tools and techniques, you can attract more customers and increase your income streams.\n",
      "\n",
      "Generating Income Streams:\n",
      "\n",
      "There are various ways to generate income online, including freelancing, selling products or services, and investing in online ventures. Explore different avenues and consider diversifying your income streams to maximize your earning potential. By exploring different opportunities, you can find the right fit for your skills and interests.\n",
      "\n",
      "Managing Finances:\n",
      "\n",
      "As you start earning money online, it is important to track your income and expenses, set up payment gateways and accounts, and plan for taxes and financial security. By managing your finances effectively, you can ensure that you are on track to achieve your financial goals and build a sustainable online business.\n",
      "\n",
      "Overcoming Challenges:\n",
      "\n",
      "Earning money online comes with its own set of challenges, including dealing with competition, managing time, and staying motivated. It is important to stay focused, seek help or guidance when needed, and remain flexible in your approach. By overcoming obstacles and persevering through challenges, you can achieve success in the online marketplace.\n",
      "\n",
      "In conclusion, earning money online is a viable option for those looking to supplement their income or start a new career. By identifying opportunities, building a strategy, implementing tools and techniques, generating income streams, managing finances, and overcoming challenges, you can pave the way for a successful online business. Take action today and start earning money online - the possibilities are endless!\n"
     ]
    }
   ],
   "source": [
    "print(\"Topic: \", result[\"topic\"])\n",
    "print(\"Outline: \", result[\"outline\"])\n",
    "print(\"Blog: \", result[\"blog\"])"
   ]
  },
  {
   "cell_type": "code",
   "execution_count": 24,
   "id": "7c63c481",
   "metadata": {},
   "outputs": [
    {
     "data": {
      "image/png": "[encoded data removed]",
      "text/plain": [
       "<IPython.core.display.Image object>"
      ]
     },
     "metadata": {},
     "output_type": "display_data"
    }
   ],
   "source": [
    "from IPython.display import Image, display\n",
    "\n",
    "display(\n",
    "    Image(\n",
    "        workflow.get_graph().draw_mermaid_png()\n",
    "    )\n",
    ")"
   ]
  },
  {
   "cell_type": "code",
   "execution_count": null,
   "id": "27ff84fd",
   "metadata": {},
   "outputs": [],
   "source": []
  }
 ],
 "metadata": {
  "kernelspec": {
   "display_name": "langgraph_venv",
   "language": "python",
   "name": "python3"
  },
  "language_info": {
   "codemirror_mode": {
    "name": "ipython",
    "version": 3
   },
   "file_extension": ".py",
   "mimetype": "text/x-python",
   "name": "python",
   "nbconvert_exporter": "python",
   "pygments_lexer": "ipython3",
   "version": "3.12.7"
  }
 },
 "nbformat": 4,
 "nbformat_minor": 5
}
