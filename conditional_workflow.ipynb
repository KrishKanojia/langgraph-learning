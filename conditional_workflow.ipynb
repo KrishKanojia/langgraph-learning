{
 "cells": [
  {
   "cell_type": "code",
   "execution_count": 1,
   "id": "902dec13",
   "metadata": {},
   "outputs": [
    {
     "data": {
      "text/plain": [
       "True"
      ]
     },
     "execution_count": 1,
     "metadata": {},
     "output_type": "execute_result"
    }
   ],
   "source": [
    "from dotenv import load_dotenv\n",
    "from langchain_openai import ChatOpenAI\n",
    "from langgraph.graph import StateGraph, START, END\n",
    "from typing import TypedDict, Literal\n",
    "from pydantic import BaseModel, Field\n",
    "import operator\n",
    "load_dotenv()"
   ]
  },
  {
   "cell_type": "code",
   "execution_count": 25,
   "id": "e6723222",
   "metadata": {},
   "outputs": [],
   "source": [
    "model = ChatOpenAI(model=\"gpt-4o-mini\")"
   ]
  },
  {
   "cell_type": "code",
   "execution_count": 72,
   "id": "7cb9d1f7",
   "metadata": {},
   "outputs": [],
   "source": [
    "class SentimentSchema(BaseModel):\n",
    "    sentiment: Literal[\"positive\", \"negative\"] = Field(description=\"Sentiment of the Review\")\n",
    "    \n",
    "class DiagonisSchema(BaseModel):\n",
    "    issue_type: Literal[\"UX\", \"Performance\", \"Bug\", \"Support\", \"Other\"] = Field(description=\"The cateogy of the mentioned in the review\")\n",
    "    tone: Literal[\"angry\", \"fustrated\", \"disappointed\", \"calm\"] = Field(description=\"The emotional tone expressed by the user\")\n",
    "    urgency: Literal[\"low\", \"medium\", \"high\"] = Field(description=\"How urgent or critical the issue appears to be\")"
   ]
  },
  {
   "cell_type": "code",
   "execution_count": 73,
   "id": "3ebbef91",
   "metadata": {},
   "outputs": [],
   "source": [
    "diagnosis_model_structured = model.with_structured_output(DiagonisSchema)"
   ]
  },
  {
   "cell_type": "code",
   "execution_count": 74,
   "id": "b5df6277",
   "metadata": {},
   "outputs": [],
   "source": [
    "structured_model = model.with_structured_output(SentimentSchema)"
   ]
  },
  {
   "cell_type": "code",
   "execution_count": 75,
   "id": "6e046f4e",
   "metadata": {},
   "outputs": [],
   "source": [
    "class ReviewState(TypedDict):\n",
    "    review: str\n",
    "    sentiment: Literal[\"positive\", \"negative\"]\n",
    "    diagnosis: dict\n",
    "    response: str"
   ]
  },
  {
   "cell_type": "code",
   "execution_count": 76,
   "id": "bd0c8298",
   "metadata": {},
   "outputs": [],
   "source": [
    "def find_sentiment(state: ReviewState):\n",
    "    prompt =f\"For the following review find out the sentiment \\n {state[\"review\"]}\"\n",
    "    \n",
    "    result = structured_model.invoke(prompt).sentiment\n",
    "    \n",
    "    return {\"sentiment\": result}\n",
    "\n",
    "def positive_response(state: ReviewState):\n",
    "    prompt = f\"\"\"Write a warm thank you message in response to this review:\n",
    "    \\n\\n\\\"{state['review']}\\\"\\n\n",
    "    Also , kindly ask the user to leave the feedback on our website.\"\"\"\n",
    "    \n",
    "    response = model.invoke(prompt).content\n",
    "    \n",
    "    return {\"response\": response}\n",
    "\n",
    "def run_diagnosis(state: ReviewState):\n",
    "    \n",
    "    prompt = f\"\"\"Diagnose this negative review:\\n\\n{state['review']}\\n\"\n",
    "    \"Return issue_type, tone, and urgency.\n",
    "    \"\"\"\n",
    "    \n",
    "    diagnosis = diagnosis_model_structured.invoke(prompt)\n",
    "    \n",
    "    return {\"diagnosis\": diagnosis.model_dump()}\n",
    "\n",
    "def negative_response(state: ReviewState):\n",
    "\n",
    "    diagnosis = state[\"diagnosis\"]\n",
    "        \n",
    "    prompt = f\"\"\"You are a support assistant.\n",
    "        The user had a '{diagnosis['issue_type']}' issue, sounded '{diagnosis['tone']}', and marked urgency as '{diagnosis['urgency']}'.\n",
    "        Write an empathetic, helpful resolution message.\n",
    "        \"\"\"\n",
    "    response = model.invoke(prompt).content\n",
    "    \n",
    "    return {\"response\": response}\n",
    "\n",
    "def check_sentiment(state: ReviewState) -> Literal[\"positive_response\", \"run_diagnosis\"]:\n",
    "    if state[\"sentiment\"] == \"positive\":\n",
    "        return \"positive_response\"\n",
    "    else:\n",
    "        return \"run_diagnosis\""
   ]
  },
  {
   "cell_type": "code",
   "execution_count": 77,
   "metadata": {},
   "outputs": [],
   "source": [
    "graph = StateGraph(ReviewState)\n",
    "\n",
    "graph.add_node(\"find_sentiment\", find_sentiment)\n",
    "graph.add_node(\"positive_response\", positive_response)\n",
    "graph.add_node(\"run_diagnosis\", run_diagnosis)\n",
    "graph.add_node(\"negative_response\", negative_response)\n",
    "\n",
    "\n",
    "graph.add_edge(START, \"find_sentiment\")\n",
    "graph.add_conditional_edges(\"find_sentiment\", check_sentiment)\n",
    "graph.add_edge(\"positive_response\", END)\n",
    "graph.add_edge(\"run_diagnosis\", \"negative_response\")\n",
    "graph.add_edge(\"negative_response\", END)\n",
    "\n",
    "workflow = graph.compile()"
   ]
  },
  {
   "cell_type": "code",
   "execution_count": 81,
   "id": "0b7c6b33",
   "metadata": {},
   "outputs": [
    {
     "data": {
      "image/png": "[encoded data removed]",
      "text/plain": [
       "<langgraph.graph.state.CompiledStateGraph object at 0x000001FDF497BEC0>"
      ]
     },
     "execution_count": 81,
     "metadata": {},
     "output_type": "execute_result"
    }
   ],
   "source": [
    "workflow"
   ]
  },
  {
   "cell_type": "code",
   "execution_count": 80,
   "metadata": {},
   "outputs": [
    {
     "data": {
      "text/plain": [
       "{'review': 'I’ve been trying to log in for over an hour now, and the app keeps freezing on the authentication screen. I even tried reinstalling it, but no luck. This kind of bug is unacceptable, especially when it affects basic functionality.',\n",
       " 'sentiment': 'negative',\n",
       " 'diagnosis': {'issue_type': 'Bug', 'tone': 'angry', 'urgency': 'high'},\n",
       " 'response': \"Subject: We're Here to Help with Your Bug Issue\\n\\nDear [User's Name],\\n\\nI truly appreciate you reaching out and sharing your concerns about the bug issue you’ve encountered. I can only imagine how frustrating this must be for you, especially with the urgency involved.\\n\\nRest assured, we are committed to resolving this as quickly as possible. To help us assist you better, could you please provide a bit more information about the issue you’re facing? Specific details like the device you're using, the steps that led to the bug, and any error messages received would be incredibly helpful.\\n\\nWe're here to support you and will do everything we can to get this resolved swiftly. Thank you for your patience, and I look forward to hearing from you soon.\\n\\nWarm regards,\\n\\n[Your Name]  \\n[Your Title]  \\n[Your Company]  \\n[Contact Information]  \"}"
      ]
     },
     "execution_count": 80,
     "metadata": {},
     "output_type": "execute_result"
    }
   ],
   "source": [
    "initial_state ={\n",
    "    'review': \"I’ve been trying to log in for over an hour now, and the app keeps freezing on the authentication screen. I even tried reinstalling it, but no luck. This kind of bug is unacceptable, especially when it affects basic functionality.\"\n",
    "}\n",
    "\n",
    "workflow.invoke(initial_state)"
   ]
  },
  {
   "cell_type": "code",
   "execution_count": null,
   "metadata": {},
   "outputs": [],
   "source": []
  },
  {
   "cell_type": "code",
   "execution_count": null,
   "metadata": {},
   "outputs": [],
   "source": []
  },
  {
   "cell_type": "code",
   "execution_count": 2,
   "id": "674b26d1",
   "metadata": {},
   "outputs": [],
   "source": [
    "class QuadState(TypedDict):\n",
    "    a: int\n",
    "    b: int\n",
    "    c: int\n",
    "    \n",
    "    equation: str\n",
    "    discriminant: float\n",
    "    result: str"
   ]
  },
  {
   "cell_type": "code",
   "execution_count": 18,
   "id": "f853ecf9",
   "metadata": {},
   "outputs": [],
   "source": [
    "def show_equation(state: QuadState):\n",
    "    \n",
    "    equation = f\"{state[\"a\"]}x2+{state[\"b\"]}x{state[\"c\"]}\"\n",
    "    \n",
    "    return {'equation' : equation}\n",
    "\n",
    "def calculate_discriminant(state: QuadState):\n",
    "    \n",
    "    discriminant = (state[\"b\"]**2) - (4*state[\"a\"]*state[\"c\"])\n",
    "    \n",
    "    return {'discriminant' : discriminant}\n"
   ]
  },
  {
   "cell_type": "code",
   "execution_count": 19,
   "id": "d0a22936",
   "metadata": {},
   "outputs": [],
   "source": [
    "def real_roots(state: QuadState):\n",
    "    \n",
    "    root1 = (-state[\"b\"] + state[\"discriminant\"]**0.5)/(2*state[\"a\"])\n",
    "    root2 = (-state[\"b\"] - state[\"discriminant\"]**0.5)/(2*state[\"a\"])\n",
    "\n",
    "    result = f\"The roots are {root1} and {root2}\"\n",
    "\n",
    "    return {\"result\" : result}\n",
    "\n",
    "def repeated_roots(state: QuadState):\n",
    "    \n",
    "    root = -state[\"b\"]/(2*state[\"a\"])\n",
    "\n",
    "    result = f\"Only repeating root is {root}\"\n",
    "\n",
    "    return {\"result\" : result}\n",
    "\n",
    "def no_roots(state: QuadState):\n",
    "    \n",
    "\n",
    "    result = \"Only real root\"\n",
    "\n",
    "    return {\"result\" : result}\n",
    "\n",
    "def check_condition(state: QuadState) -> Literal[\"real_roots\", \"repeated_roots\", \"no_roots\"]:\n",
    "    \n",
    "    if state[\"discriminant\"] > 0:\n",
    "        return \"real_roots\"\n",
    "    elif state[\"discriminant\"] == 0:\n",
    "        return \"repeated_roots\"\n",
    "    else:\n",
    "        return \"no_roots\""
   ]
  },
  {
   "cell_type": "code",
   "execution_count": 20,
   "id": "6616ce5d",
   "metadata": {},
   "outputs": [],
   "source": [
    "graph = StateGraph(QuadState)\n",
    "\n",
    "graph.add_node(\"show_equation\", show_equation)\n",
    "graph.add_node(\"calculate_discriminant\", calculate_discriminant)\n",
    "graph.add_node(\"real_roots\", real_roots)\n",
    "graph.add_node(\"repeated_roots\", repeated_roots)\n",
    "graph.add_node(\"no_roots\", no_roots)\n",
    "\n",
    "graph.add_edge(START, \"show_equation\")\n",
    "graph.add_edge(\"show_equation\", \"calculate_discriminant\")\n",
    "graph.add_conditional_edges(\"calculate_discriminant\", check_condition)\n",
    "graph.add_edge( \"real_roots\", END)\n",
    "graph.add_edge(\"repeated_roots\", END)\n",
    "graph.add_edge(\"no_roots\", END)\n",
    "\n",
    "workflow = graph.compile()"
   ]
  },
  {
   "cell_type": "code",
   "execution_count": 21,
   "id": "152be473",
   "metadata": {},
   "outputs": [
    {
     "data": {
      "image/png": "[encoded data removed]",
      "text/plain": [
       "<langgraph.graph.state.CompiledStateGraph object at 0x000001FDF3835130>"
      ]
     },
     "execution_count": 21,
     "metadata": {},
     "output_type": "execute_result"
    }
   ],
   "source": [
    "workflow"
   ]
  },
  {
   "cell_type": "code",
   "execution_count": 23,
   "id": "4a57b32f",
   "metadata": {},
   "outputs": [
    {
     "data": {
      "text/plain": [
       "{'a': 2,\n",
       " 'b': 4,\n",
       " 'c': 2,\n",
       " 'equation': '2x2+4x2',\n",
       " 'discriminant': 0,\n",
       " 'result': 'Only repeating root is -1.0'}"
      ]
     },
     "execution_count": 23,
     "metadata": {},
     "output_type": "execute_result"
    }
   ],
   "source": [
    "initial_state = {\n",
    "    \"a\" : 2,\n",
    "    \"b\": 4,\n",
    "    \"c\": 2\n",
    "}\n",
    "\n",
    "workflow.invoke(initial_state)"
   ]
  },
  {
   "cell_type": "code",
   "execution_count": null,
   "id": "e51f51cd",
   "metadata": {},
   "outputs": [],
   "source": []
  },
  {
   "cell_type": "code",
   "execution_count": null,
   "id": "ac5da540",
   "metadata": {},
   "outputs": [],
   "source": []
  }
 ],
 "metadata": {
  "kernelspec": {
   "display_name": "langgraph_venv",
   "language": "python",
   "name": "python3"
  },
  "language_info": {
   "codemirror_mode": {
    "name": "ipython",
    "version": 3
   },
   "file_extension": ".py",
   "mimetype": "text/x-python",
   "name": "python",
   "nbconvert_exporter": "python",
   "pygments_lexer": "ipython3",
   "version": "3.12.1"
  }
 },
 "nbformat": 4,
 "nbformat_minor": 5
}
